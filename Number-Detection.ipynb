{
  "nbformat": 4,
  "nbformat_minor": 0,
  "metadata": {
    "colab": {
      "name": "Neural Network.ipynb",
      "provenance": [],
      "authorship_tag": "ABX9TyNMvpXteCEKyj6VC+kGJpTL",
      "include_colab_link": true
    },
    "kernelspec": {
      "name": "python3",
      "display_name": "Python 3"
    },
    "language_info": {
      "name": "python"
    }
  },
  "cells": [
    {
      "cell_type": "markdown",
      "metadata": {
        "id": "view-in-github",
        "colab_type": "text"
      },
      "source": [
        "<a href=\"https://colab.research.google.com/github/deepraj1/Handwriting-Detection/blob/main/Number-Detection.ipynb\" target=\"_parent\"><img src=\"https://colab.research.google.com/assets/colab-badge.svg\" alt=\"Open In Colab\"/></a>"
      ]
    },
    {
      "cell_type": "code",
      "metadata": {
        "id": "m7YHNtNEgRcX"
      },
      "source": [
        "import tensorflow as tf\n",
        "from tensorflow import keras\n",
        "import matplotlib.pyplot as plt\n",
        "import numpy as np"
      ],
      "execution_count": null,
      "outputs": []
    },
    {
      "cell_type": "code",
      "metadata": {
        "colab": {
          "base_uri": "https://localhost:8080/"
        },
        "id": "hPRxC5LXg2kr",
        "outputId": "7e6b90cc-58e7-4f7d-f2c1-0759055332a8"
      },
      "source": [
        "(x_train,y_train),(x_test,y_test) = keras.datasets.mnist.load_data()\n",
        "x_train = x_train/256\n",
        "x_test = x_test/256"
      ],
      "execution_count": null,
      "outputs": [
        {
          "output_type": "execute_result",
          "data": {
            "text/plain": [
              "(60000, 28, 28)"
            ]
          },
          "metadata": {
            "tags": []
          },
          "execution_count": 26
        }
      ]
    },
    {
      "cell_type": "code",
      "metadata": {
        "colab": {
          "base_uri": "https://localhost:8080/"
        },
        "id": "8PCVVPgvkvJW",
        "outputId": "55e4fe59-01ae-4559-d70e-c908f6adde5a"
      },
      "source": [
        "x_train_flat = x_train.reshape(len(x_train),28*28)\n",
        "x_test_flat = x_test.reshape(len(x_test),28*28)\n",
        "x_train_flat.shape"
      ],
      "execution_count": null,
      "outputs": [
        {
          "output_type": "execute_result",
          "data": {
            "text/plain": [
              "(60000, 784)"
            ]
          },
          "metadata": {
            "tags": []
          },
          "execution_count": 27
        }
      ]
    },
    {
      "cell_type": "code",
      "metadata": {
        "id": "AQQa9oR2lHw2"
      },
      "source": [
        "model = keras.Sequential([\n",
        "                          keras.layers.Dense(10,input_shape=(784,),activation='sigmoid')\n",
        "])\n",
        "\n",
        "model.compile(optimizer='adam',loss='sparse_categorical_crossentropy',metrics=['accuracy'])\n",
        "model.fit(x_train_flat,y_train,epochs=10)"
      ],
      "execution_count": null,
      "outputs": []
    },
    {
      "cell_type": "code",
      "metadata": {
        "id": "HodTL81KoAAH"
      },
      "source": [
        "model.evaluate(x_test_flat,y_test)"
      ],
      "execution_count": null,
      "outputs": []
    },
    {
      "cell_type": "code",
      "metadata": {
        "id": "K6PtTALZolWd"
      },
      "source": [
        "plt.matshow(x_test[8])"
      ],
      "execution_count": null,
      "outputs": []
    },
    {
      "cell_type": "code",
      "metadata": {
        "id": "M1AfsBbZosuW"
      },
      "source": [
        "predict = model.predict(x_test_flat)\n",
        "np.argmax(predict[8])\n"
      ],
      "execution_count": null,
      "outputs": []
    },
    {
      "cell_type": "code",
      "metadata": {
        "id": "Kp52i3viqaXe"
      },
      "source": [
        "y_predicted = [np.argmax(i) for i in predict]\n",
        "matrix = tf.math.confusion_matrix(labels=y_test,predictions=y_predicted)\n",
        "matrix"
      ],
      "execution_count": null,
      "outputs": []
    },
    {
      "cell_type": "code",
      "metadata": {
        "id": "WcfxoRT7rLkS"
      },
      "source": [
        "import seaborn as sb\n",
        "plt.figure(figsize=(10,7))\n",
        "sb.heatmap(matrix,annot=True,fmt='d')"
      ],
      "execution_count": null,
      "outputs": []
    },
    {
      "cell_type": "code",
      "metadata": {
        "id": "tIpaHBpAt0PG"
      },
      "source": [
        "model = keras.Sequential([\n",
        "                          keras.layers.Dense(128,input_shape=(784,),activation='relu'),\n",
        "                          keras.layers.Dense(10,activation='sigmoid')\n",
        "])\n",
        "\n",
        "model.compile(optimizer='adam',loss='sparse_categorical_crossentropy',metrics=['accuracy'])\n",
        "model.fit(x_train_flat,y_train,epochs=5)"
      ],
      "execution_count": null,
      "outputs": []
    },
    {
      "cell_type": "code",
      "metadata": {
        "id": "fTZY2RLAudEh"
      },
      "source": [
        "model.evaluate(x_test_flat,y_test)"
      ],
      "execution_count": null,
      "outputs": []
    },
    {
      "cell_type": "code",
      "metadata": {
        "id": "pnZ7FeYau4uY"
      },
      "source": [
        "predict = model.predict(x_test_flat)"
      ],
      "execution_count": null,
      "outputs": []
    },
    {
      "cell_type": "code",
      "metadata": {
        "id": "-R8-U0tTupco"
      },
      "source": [
        "y_predicted = [np.argmax(i) for i in predict]\n",
        "matrix = tf.math.confusion_matrix(labels=y_test,predictions=y_predicted)\n",
        "plt.figure(figsize=(10,7))\n",
        "sb.heatmap(matrix,annot=True,fmt='d')"
      ],
      "execution_count": null,
      "outputs": []
    },
    {
      "cell_type": "code",
      "metadata": {
        "id": "bvRUcS1_vGTA"
      },
      "source": [
        "model = keras.Sequential([\n",
        "                          keras.layers.Flatten(input_shape=(28,28)),\n",
        "                          keras.layers.Dense(128,activation='relu'),\n",
        "                          keras.layers.Dense(10,activation='sigmoid')\n",
        "])\n",
        "\n",
        "model.compile(optimizer='adam',loss='SparseCategoricalCrossentropy',metrics=['accuracy'])\n",
        "model.fit(x_train,y_train,epochs=5)"
      ],
      "execution_count": null,
      "outputs": []
    },
    {
      "cell_type": "code",
      "metadata": {
        "id": "Y6K-nsx0wCdR"
      },
      "source": [
        "model.evaluate(x_test,y_test)"
      ],
      "execution_count": null,
      "outputs": []
    },
    {
      "cell_type": "code",
      "metadata": {
        "id": "gNCLckocwGom"
      },
      "source": [
        "predict = model.predict(x_test_flat)\n",
        "y_predicted = [np.argmax(i) for i in predict]\n",
        "matrix = tf.math.confusion_matrix(labels=y_test,predictions=y_predicted)\n",
        "plt.figure(figsize=(10,7))\n",
        "sb.heatmap(matrix,annot=True,fmt='d')"
      ],
      "execution_count": null,
      "outputs": []
    }
  ]
}